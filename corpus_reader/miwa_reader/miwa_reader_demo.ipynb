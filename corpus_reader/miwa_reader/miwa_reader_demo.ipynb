{
 "cells": [
  {
   "cell_type": "markdown",
   "metadata": {},
   "source": [
    "# Miwa reader"
   ]
  },
  {
   "cell_type": "markdown",
   "metadata": {},
   "source": [
    "First, append the project file path so we can import the packages in this project afterwards"
   ]
  },
  {
   "cell_type": "code",
   "execution_count": 1,
   "metadata": {},
   "outputs": [],
   "source": [
    "import sys\n",
    "sys.path.append(\"/media/moju/data/work/corpus_reader\")"
   ]
  },
  {
   "cell_type": "code",
   "execution_count": 2,
   "metadata": {},
   "outputs": [],
   "source": [
    "from miwa_reader import MiwaReader"
   ]
  },
  {
   "cell_type": "code",
   "execution_count": 3,
   "metadata": {},
   "outputs": [],
   "source": [
    "reader = MiwaReader()"
   ]
  },
  {
   "cell_type": "code",
   "execution_count": 4,
   "metadata": {},
   "outputs": [],
   "source": [
    "docs = reader.read('/media/moju/data/work/resource/data/ace-2005/miwa2016/corpus/dev/')"
   ]
  },
  {
   "cell_type": "markdown",
   "metadata": {},
   "source": [
    "docs is a dictionary where the key is the document ID and the value is the Document object defined in structure.structure"
   ]
  },
  {
   "cell_type": "code",
   "execution_count": 5,
   "metadata": {},
   "outputs": [
    {
     "data": {
      "text/plain": [
       "{'AFP_ENG_20030327.0224': <corpus_reader.structure.structure.Document at 0x7fd5b4db9518>,\n",
       " 'AFP_ENG_20030330.0211': <corpus_reader.structure.structure.Document at 0x7fd5b4d7d860>,\n",
       " 'AFP_ENG_20030401.0476': <corpus_reader.structure.structure.Document at 0x7fd5b4db9550>,\n",
       " 'BACONSREBELLION_20050127.1017': <corpus_reader.structure.structure.Document at 0x7fd5b4cb1748>,\n",
       " 'BACONSREBELLION_20050209.0721': <corpus_reader.structure.structure.Document at 0x7fd5b4a99b00>,\n",
       " 'BACONSREBELLION_20050216.1632': <corpus_reader.structure.structure.Document at 0x7fd5b4a102e8>,\n",
       " 'BACONSREBELLION_20050226.1317': <corpus_reader.structure.structure.Document at 0x7fd5b498e2e8>,\n",
       " 'CNN_ENG_20030423_180539.2': <corpus_reader.structure.structure.Document at 0x7fd5b48caa58>,\n",
       " 'CNN_ENG_20030428_193655.2': <corpus_reader.structure.structure.Document at 0x7fd5b4845160>,\n",
       " 'CNN_ENG_20030429_083016.5': <corpus_reader.structure.structure.Document at 0x7fd5b47f07f0>,\n",
       " 'CNN_ENG_20030611_102832.3': <corpus_reader.structure.structure.Document at 0x7fd5b4744748>,\n",
       " 'CNN_ENG_20030612_072835.2': <corpus_reader.structure.structure.Document at 0x7fd5b4709ef0>,\n",
       " 'CNN_ENG_20030617_173115.14': <corpus_reader.structure.structure.Document at 0x7fd5b46df748>,\n",
       " 'CNN_IP_20030408.1600.04': <corpus_reader.structure.structure.Document at 0x7fd5b4523630>,\n",
       " 'CNN_IP_20030412.1600.05': <corpus_reader.structure.structure.Document at 0x7fd5b45231d0>,\n",
       " 'CNN_IP_20030414.1600.04': <corpus_reader.structure.structure.Document at 0x7fd5b42e1908>,\n",
       " 'APW_ENG_20030310.0719': <corpus_reader.structure.structure.Document at 0x7fd5b42d89e8>,\n",
       " 'APW_ENG_20030331.0410': <corpus_reader.structure.structure.Document at 0x7fd5b42686a0>,\n",
       " 'APW_ENG_20030409.0013': <corpus_reader.structure.structure.Document at 0x7fd5b41eda90>,\n",
       " 'APW_ENG_20030419.0358': <corpus_reader.structure.structure.Document at 0x7fd59ffaac18>,\n",
       " 'CNN_ENG_20030305_170125.1': <corpus_reader.structure.structure.Document at 0x7fd59fe93b70>,\n",
       " 'CNN_ENG_20030306_083604.6': <corpus_reader.structure.structure.Document at 0x7fd59fdd65c0>,\n",
       " 'CNN_ENG_20030320_153434.7': <corpus_reader.structure.structure.Document at 0x7fd59fbd71d0>,\n",
       " 'CNN_ENG_20030329_170349.7': <corpus_reader.structure.structure.Document at 0x7fd59fba9dd8>,\n",
       " 'CNN_ENG_20030624_153103.17': <corpus_reader.structure.structure.Document at 0x7fd59fba9b38>,\n",
       " 'CNN_ENG_20030626_193133.8': <corpus_reader.structure.structure.Document at 0x7fd59f940f28>,\n",
       " 'CNN_ENG_20030627_065846.3': <corpus_reader.structure.structure.Document at 0x7fd59f97d4a8>,\n",
       " 'CNN_IP_20030329.1600.00-5': <corpus_reader.structure.structure.Document at 0x7fd59f85dc18>,\n",
       " 'MARKETVIEW_20041209.1401': <corpus_reader.structure.structure.Document at 0x7fd59f796cc0>,\n",
       " 'MARKETVIEW_20050120.1641': <corpus_reader.structure.structure.Document at 0x7fd59f7905f8>,\n",
       " 'MARKETVIEW_20050208.2033': <corpus_reader.structure.structure.Document at 0x7fd59f77feb8>,\n",
       " 'MARKETVIEW_20050209.1923': <corpus_reader.structure.structure.Document at 0x7fd59f685320>,\n",
       " 'MARKETVIEW_20050212.1607': <corpus_reader.structure.structure.Document at 0x7fd59f633b70>,\n",
       " 'CNN_ENG_20030509_090025.5': <corpus_reader.structure.structure.Document at 0x7fd59f5ff128>,\n",
       " 'CNN_ENG_20030509_123601.13': <corpus_reader.structure.structure.Document at 0x7fd59f494f28>,\n",
       " 'CNN_ENG_20030513_080020.2': <corpus_reader.structure.structure.Document at 0x7fd59f486b38>,\n",
       " 'MARKETVIEW_20050215.1858': <corpus_reader.structure.structure.Document at 0x7fd59f308780>,\n",
       " 'MARKETVIEW_20050216.2120': <corpus_reader.structure.structure.Document at 0x7fd59f31da58>,\n",
       " 'MARKETVIEW_20050222.0729': <corpus_reader.structure.structure.Document at 0x7fd59f242940>,\n",
       " 'MARKETVIEW_20050226.1307': <corpus_reader.structure.structure.Document at 0x7fd59f2b15f8>,\n",
       " 'AFP_ENG_20030429.0007': <corpus_reader.structure.structure.Document at 0x7fd59f1c4198>,\n",
       " 'AFP_ENG_20030519.0049': <corpus_reader.structure.structure.Document at 0x7fd59f0e6b38>,\n",
       " 'AGGRESSIVEVOICEDAILY_20041101.1144': <corpus_reader.structure.structure.Document at 0x7fd59f099320>,\n",
       " 'AGGRESSIVEVOICEDAILY_20041101.1806': <corpus_reader.structure.structure.Document at 0x7fd59efcb9b0>,\n",
       " 'APW_ENG_20030422.0469': <corpus_reader.structure.structure.Document at 0x7fd59ef28cc0>,\n",
       " 'APW_ENG_20030519.0367': <corpus_reader.structure.structure.Document at 0x7fd59ed289b0>,\n",
       " 'APW_ENG_20030519.0548': <corpus_reader.structure.structure.Document at 0x7fd59ec97518>,\n",
       " 'APW_ENG_20030619.0383': <corpus_reader.structure.structure.Document at 0x7fd59e974048>,\n",
       " 'CNNHL_ENG_20030402_193443.5': <corpus_reader.structure.structure.Document at 0x7fd59e90c7b8>,\n",
       " 'CNNHL_ENG_20030416_230741.33': <corpus_reader.structure.structure.Document at 0x7fd59e8d3c18>,\n",
       " 'CNNHL_ENG_20030604_230238.5': <corpus_reader.structure.structure.Document at 0x7fd59e8b58d0>,\n",
       " 'CNN_CF_20030304.1900.01': <corpus_reader.structure.structure.Document at 0x7fd59e57b1d0>,\n",
       " 'CNN_ENG_20030407_080037.12': <corpus_reader.structure.structure.Document at 0x7fd59e5681d0>,\n",
       " 'CNN_ENG_20030407_130604.10': <corpus_reader.structure.structure.Document at 0x7fd59e34f048>,\n",
       " 'CNN_ENG_20030409_180633.8': <corpus_reader.structure.structure.Document at 0x7fd59e37af60>,\n",
       " 'CNN_ENG_20030415_103039.0': <corpus_reader.structure.structure.Document at 0x7fd59e374860>,\n",
       " 'CNN_ENG_20030422_083005.10': <corpus_reader.structure.structure.Document at 0x7fd59e0c7c88>,\n",
       " 'CNN_ENG_20030526_183538.3': <corpus_reader.structure.structure.Document at 0x7fd59dfbdd30>,\n",
       " 'CNN_ENG_20030530_130025.12': <corpus_reader.structure.structure.Document at 0x7fd59dedd400>,\n",
       " 'CNN_ENG_20030605_085831.13': <corpus_reader.structure.structure.Document at 0x7fd59ddfdbe0>,\n",
       " 'CNN_ENG_20030610_085833.10': <corpus_reader.structure.structure.Document at 0x7fd59dd7fc88>,\n",
       " 'CNN_ENG_20030617_193116.10': <corpus_reader.structure.structure.Document at 0x7fd59da8aac8>,\n",
       " 'CNN_ENG_20030618_150128.6': <corpus_reader.structure.structure.Document at 0x7fd59da6b978>,\n",
       " 'CNN_ENG_20030620_170011.14': <corpus_reader.structure.structure.Document at 0x7fd59da23dd8>,\n",
       " 'CNN_ENG_20030624_140104.22': <corpus_reader.structure.structure.Document at 0x7fd59d9ab080>,\n",
       " 'CNN_IP_20030402.1600.00-4': <corpus_reader.structure.structure.Document at 0x7fd59d704588>,\n",
       " 'CNN_IP_20030404.1600.00-2': <corpus_reader.structure.structure.Document at 0x7fd59d7514e0>,\n",
       " 'CNN_IP_20030406.1600.03': <corpus_reader.structure.structure.Document at 0x7fd59d434f60>,\n",
       " 'CNN_IP_20030408.1600.03': <corpus_reader.structure.structure.Document at 0x7fd59d434048>,\n",
       " 'FLOPPINGACES_20050101.2244.048': <corpus_reader.structure.structure.Document at 0x7fd59d1d7080>,\n",
       " 'MARKBACKER_20041112.0707': <corpus_reader.structure.structure.Document at 0x7fd59d0b2cf8>,\n",
       " 'MARKBACKER_20041128.1641': <corpus_reader.structure.structure.Document at 0x7fd59ce29a90>,\n",
       " 'MARKBACKER_20050217.0647': <corpus_reader.structure.structure.Document at 0x7fd59ce36828>,\n",
       " 'CNN_ENG_20030429_110706.7': <corpus_reader.structure.structure.Document at 0x7fd59cc42048>,\n",
       " 'CNN_ENG_20030502_093018.6': <corpus_reader.structure.structure.Document at 0x7fd59ca15748>,\n",
       " 'CNN_ENG_20030507_160538.15': <corpus_reader.structure.structure.Document at 0x7fd59c952ba8>,\n",
       " 'CNN_ENG_20030507_170539.0': <corpus_reader.structure.structure.Document at 0x7fd59c8696a0>,\n",
       " 'NYT_ENG_20030630.0079': <corpus_reader.structure.structure.Document at 0x7fd59c63f128>,\n",
       " 'XIN_ENG_20030408.0341': <corpus_reader.structure.structure.Document at 0x7fd59c6376d8>,\n",
       " 'XIN_ENG_20030513.0002': <corpus_reader.structure.structure.Document at 0x7fd59c41aa90>}"
      ]
     },
     "execution_count": 5,
     "metadata": {},
     "output_type": "execute_result"
    }
   ],
   "source": [
    "docs"
   ]
  },
  {
   "cell_type": "markdown",
   "metadata": {},
   "source": [
    "For example we test on the document AFP_ENG_20030327.0224"
   ]
  },
  {
   "cell_type": "code",
   "execution_count": 6,
   "metadata": {},
   "outputs": [],
   "source": [
    "mydoc = docs['AFP_ENG_20030327.0224']"
   ]
  },
  {
   "cell_type": "markdown",
   "metadata": {},
   "source": [
    "Each document has a list of Sentence object defined in structure.structure"
   ]
  },
  {
   "cell_type": "code",
   "execution_count": 7,
   "metadata": {},
   "outputs": [
    {
     "data": {
      "text/plain": [
       "37"
      ]
     },
     "execution_count": 7,
     "metadata": {},
     "output_type": "execute_result"
    }
   ],
   "source": [
    "len(mydoc.sentences)"
   ]
  },
  {
   "cell_type": "code",
   "execution_count": 8,
   "metadata": {},
   "outputs": [
    {
     "data": {
      "text/plain": [
       "'afp_eng_20030327 .0224'"
      ]
     },
     "execution_count": 8,
     "metadata": {},
     "output_type": "execute_result"
    }
   ],
   "source": [
    "str(mydoc.sentences[0])"
   ]
  },
  {
   "cell_type": "markdown",
   "metadata": {},
   "source": [
    "Each sentnece has a list of Token object defined in structure.structure"
   ]
  },
  {
   "cell_type": "code",
   "execution_count": 9,
   "metadata": {},
   "outputs": [
    {
     "data": {
      "text/plain": [
       "34"
      ]
     },
     "execution_count": 9,
     "metadata": {},
     "output_type": "execute_result"
    }
   ],
   "source": [
    "len(mydoc.sentences[10].tokens)"
   ]
  },
  {
   "cell_type": "code",
   "execution_count": 10,
   "metadata": {},
   "outputs": [
    {
     "data": {
      "text/plain": [
       "'sandstorm'"
      ]
     },
     "execution_count": 10,
     "metadata": {},
     "output_type": "execute_result"
    }
   ],
   "source": [
    "mydoc.sentences[10].tokens[0].text"
   ]
  },
  {
   "cell_type": "code",
   "execution_count": 11,
   "metadata": {},
   "outputs": [
    {
     "data": {
      "text/plain": [
       "'t230'"
      ]
     },
     "execution_count": 11,
     "metadata": {},
     "output_type": "execute_result"
    }
   ],
   "source": [
    "mydoc.sentences[10].tokens[0].id"
   ]
  },
  {
   "cell_type": "code",
   "execution_count": 12,
   "metadata": {},
   "outputs": [
    {
     "data": {
      "text/plain": [
       "'1277'"
      ]
     },
     "execution_count": 12,
     "metadata": {},
     "output_type": "execute_result"
    }
   ],
   "source": [
    "mydoc.sentences[10].tokens[0].char_b"
   ]
  },
  {
   "cell_type": "code",
   "execution_count": 13,
   "metadata": {},
   "outputs": [
    {
     "data": {
      "text/plain": [
       "'1287'"
      ]
     },
     "execution_count": 13,
     "metadata": {},
     "output_type": "execute_result"
    }
   ],
   "source": [
    "mydoc.sentences[10].tokens[0].char_e"
   ]
  },
  {
   "cell_type": "code",
   "execution_count": 14,
   "metadata": {},
   "outputs": [
    {
     "data": {
      "text/plain": [
       "'CD'"
      ]
     },
     "execution_count": 14,
     "metadata": {},
     "output_type": "execute_result"
    }
   ],
   "source": [
    "mydoc.sentences[0].tokens[1].pos"
   ]
  },
  {
   "cell_type": "code",
   "execution_count": 15,
   "metadata": {},
   "outputs": [
    {
     "data": {
      "text/plain": [
       "'t242'"
      ]
     },
     "execution_count": 15,
     "metadata": {},
     "output_type": "execute_result"
    }
   ],
   "source": [
    "mydoc.sentences[10].tokens[0].dep_head"
   ]
  },
  {
   "cell_type": "code",
   "execution_count": 16,
   "metadata": {},
   "outputs": [
    {
     "data": {
      "text/plain": [
       "'nsubj'"
      ]
     },
     "execution_count": 16,
     "metadata": {},
     "output_type": "execute_result"
    }
   ],
   "source": [
    "mydoc.sentences[10].tokens[0].dep_type"
   ]
  },
  {
   "cell_type": "markdown",
   "metadata": {},
   "source": [
    "Each sentnece has a list of EntityMention object and RelationMention object defined in structure.structure"
   ]
  },
  {
   "cell_type": "code",
   "execution_count": 46,
   "metadata": {},
   "outputs": [
    {
     "data": {
      "text/plain": [
       "'military'"
      ]
     },
     "execution_count": 46,
     "metadata": {},
     "output_type": "execute_result"
    }
   ],
   "source": [
    "mydoc.sentences[10].entity_mentions[0].string"
   ]
  },
  {
   "cell_type": "code",
   "execution_count": 48,
   "metadata": {},
   "outputs": [
    {
     "data": {
      "text/plain": [
       "1406"
      ]
     },
     "execution_count": 48,
     "metadata": {},
     "output_type": "execute_result"
    }
   ],
   "source": [
    "mydoc.sentences[10].entity_mentions[0].char_b"
   ]
  },
  {
   "cell_type": "code",
   "execution_count": 49,
   "metadata": {},
   "outputs": [
    {
     "data": {
      "text/plain": [
       "1414"
      ]
     },
     "execution_count": 49,
     "metadata": {},
     "output_type": "execute_result"
    }
   ],
   "source": [
    "mydoc.sentences[10].entity_mentions[0].char_e"
   ]
  },
  {
   "cell_type": "markdown",
   "metadata": {},
   "source": [
    "RelationMention object has arg1 and arg2 which are EntityMention objects"
   ]
  },
  {
   "cell_type": "code",
   "execution_count": 56,
   "metadata": {},
   "outputs": [
    {
     "data": {
      "text/plain": [
       "'R8'"
      ]
     },
     "execution_count": 56,
     "metadata": {},
     "output_type": "execute_result"
    }
   ],
   "source": [
    "mydoc.sentences[10].relation_mentions[0].full_id"
   ]
  },
  {
   "cell_type": "code",
   "execution_count": 57,
   "metadata": {},
   "outputs": [
    {
     "data": {
      "text/plain": [
       "'PART-WHOLE'"
      ]
     },
     "execution_count": 57,
     "metadata": {},
     "output_type": "execute_result"
    }
   ],
   "source": [
    "mydoc.sentences[10].relation_mentions[0].type"
   ]
  },
  {
   "cell_type": "code",
   "execution_count": 58,
   "metadata": {},
   "outputs": [
    {
     "data": {
      "text/plain": [
       "'military'"
      ]
     },
     "execution_count": 58,
     "metadata": {},
     "output_type": "execute_result"
    }
   ],
   "source": [
    "mydoc.sentences[10].relation_mentions[0].arg1.string"
   ]
  },
  {
   "cell_type": "code",
   "execution_count": 59,
   "metadata": {},
   "outputs": [
    {
     "data": {
      "text/plain": [
       "'US'"
      ]
     },
     "execution_count": 59,
     "metadata": {},
     "output_type": "execute_result"
    }
   ],
   "source": [
    "mydoc.sentences[10].relation_mentions[0].arg2.string"
   ]
  },
  {
   "cell_type": "markdown",
   "metadata": {},
   "source": [
    "get_left_right_args() compares the postion and"
   ]
  },
  {
   "cell_type": "code",
   "execution_count": 60,
   "metadata": {},
   "outputs": [
    {
     "data": {
      "text/plain": [
       "(<corpus_reader.structure.structure.EntityMention at 0x7f569009f4e0>,\n",
       " <corpus_reader.structure.structure.EntityMention at 0x7f569008e9e8>,\n",
       " 'PART-WHOLE-rl')"
      ]
     },
     "execution_count": 60,
     "metadata": {},
     "output_type": "execute_result"
    }
   ],
   "source": [
    "mydoc.sentences[10].relation_mentions[0].get_left_right_args()"
   ]
  }
 ],
 "metadata": {
  "kernelspec": {
   "display_name": "Python 3",
   "language": "python",
   "name": "python3"
  },
  "language_info": {
   "codemirror_mode": {
    "name": "ipython",
    "version": 3
   },
   "file_extension": ".py",
   "mimetype": "text/x-python",
   "name": "python",
   "nbconvert_exporter": "python",
   "pygments_lexer": "ipython3",
   "version": "3.7.3"
  }
 },
 "nbformat": 4,
 "nbformat_minor": 2
}

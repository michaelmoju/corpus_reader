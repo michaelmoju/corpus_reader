{
 "cells": [
  {
   "cell_type": "markdown",
   "metadata": {},
   "source": [
    "# Miwa reader"
   ]
  },
  {
   "cell_type": "markdown",
   "metadata": {},
   "source": [
    "First, append the project file path so we can import the packages in this project afterwards"
   ]
  },
  {
   "cell_type": "code",
   "execution_count": 1,
   "metadata": {},
   "outputs": [],
   "source": [
    "import sys\n",
    "sys.path.append(\"/media/moju/data/work/corpus_reader\")"
   ]
  },
  {
   "cell_type": "code",
   "execution_count": 2,
   "metadata": {},
   "outputs": [],
   "source": [
    "from miwa_reader import MiwaReader"
   ]
  },
  {
   "cell_type": "code",
   "execution_count": 3,
   "metadata": {},
   "outputs": [],
   "source": [
    "reader = MiwaReader()"
   ]
  },
  {
   "cell_type": "code",
   "execution_count": 4,
   "metadata": {},
   "outputs": [],
   "source": [
    "docs = reader.read('/media/moju/data/work/resource/data/ace-2005/miwa2016/corpus/dev/')"
   ]
  },
  {
   "cell_type": "markdown",
   "metadata": {},
   "source": [
    "docs is a dictionary where the key is the document ID and the value is the Document object defined in structure.structure"
   ]
  },
  {
   "cell_type": "code",
   "execution_count": 5,
   "metadata": {},
   "outputs": [
    {
     "data": {
      "text/plain": [
       "{'AFP_ENG_20030327.0224': <corpus_reader.structure.structure.Document at 0x7fde18066518>,\n",
       " 'AFP_ENG_20030330.0211': <corpus_reader.structure.structure.Document at 0x7fde180aa860>,\n",
       " 'AFP_ENG_20030401.0476': <corpus_reader.structure.structure.Document at 0x7fde18066550>,\n",
       " 'BACONSREBELLION_20050127.1017': <corpus_reader.structure.structure.Document at 0x7fde0a7b6748>,\n",
       " 'BACONSREBELLION_20050209.0721': <corpus_reader.structure.structure.Document at 0x7fde0a59eb00>,\n",
       " 'BACONSREBELLION_20050216.1632': <corpus_reader.structure.structure.Document at 0x7fde0a51a2e8>,\n",
       " 'BACONSREBELLION_20050226.1317': <corpus_reader.structure.structure.Document at 0x7fde0a4932e8>,\n",
       " 'CNN_ENG_20030423_180539.2': <corpus_reader.structure.structure.Document at 0x7fde0a3cfa58>,\n",
       " 'CNN_ENG_20030428_193655.2': <corpus_reader.structure.structure.Document at 0x7fde0a34b160>,\n",
       " 'CNN_ENG_20030429_083016.5': <corpus_reader.structure.structure.Document at 0x7fde0a2f57f0>,\n",
       " 'CNN_ENG_20030611_102832.3': <corpus_reader.structure.structure.Document at 0x7fde0a249748>,\n",
       " 'CNN_ENG_20030612_072835.2': <corpus_reader.structure.structure.Document at 0x7fde0a20eef0>,\n",
       " 'CNN_ENG_20030617_173115.14': <corpus_reader.structure.structure.Document at 0x7fde0a1e4748>,\n",
       " 'CNN_IP_20030408.1600.04': <corpus_reader.structure.structure.Document at 0x7fde0a028630>,\n",
       " 'CNN_IP_20030412.1600.05': <corpus_reader.structure.structure.Document at 0x7fde0a0281d0>,\n",
       " 'CNN_IP_20030414.1600.04': <corpus_reader.structure.structure.Document at 0x7fde09de7908>,\n",
       " 'APW_ENG_20030310.0719': <corpus_reader.structure.structure.Document at 0x7fde09ddd9e8>,\n",
       " 'APW_ENG_20030331.0410': <corpus_reader.structure.structure.Document at 0x7fde09d6d6a0>,\n",
       " 'APW_ENG_20030409.0013': <corpus_reader.structure.structure.Document at 0x7fde09cf1a90>,\n",
       " 'APW_ENG_20030419.0358': <corpus_reader.structure.structure.Document at 0x7fde09ae9c18>,\n",
       " 'CNN_ENG_20030305_170125.1': <corpus_reader.structure.structure.Document at 0x7fde099d2b70>,\n",
       " 'CNN_ENG_20030306_083604.6': <corpus_reader.structure.structure.Document at 0x7fde099145c0>,\n",
       " 'CNN_ENG_20030320_153434.7': <corpus_reader.structure.structure.Document at 0x7fde097161d0>,\n",
       " 'CNN_ENG_20030329_170349.7': <corpus_reader.structure.structure.Document at 0x7fde096e8dd8>,\n",
       " 'CNN_ENG_20030624_153103.17': <corpus_reader.structure.structure.Document at 0x7fde096e8b38>,\n",
       " 'CNN_ENG_20030626_193133.8': <corpus_reader.structure.structure.Document at 0x7fde0947ff28>,\n",
       " 'CNN_ENG_20030627_065846.3': <corpus_reader.structure.structure.Document at 0x7fde094bc4a8>,\n",
       " 'CNN_IP_20030329.1600.00-5': <corpus_reader.structure.structure.Document at 0x7fde0939cc18>,\n",
       " 'MARKETVIEW_20041209.1401': <corpus_reader.structure.structure.Document at 0x7fde092d5cc0>,\n",
       " 'MARKETVIEW_20050120.1641': <corpus_reader.structure.structure.Document at 0x7fde092ce5f8>,\n",
       " 'MARKETVIEW_20050208.2033': <corpus_reader.structure.structure.Document at 0x7fde0923eeb8>,\n",
       " 'MARKETVIEW_20050209.1923': <corpus_reader.structure.structure.Document at 0x7fde091c3320>,\n",
       " 'MARKETVIEW_20050212.1607': <corpus_reader.structure.structure.Document at 0x7fde09172b70>,\n",
       " 'CNN_ENG_20030509_090025.5': <corpus_reader.structure.structure.Document at 0x7fde09134128>,\n",
       " 'CNN_ENG_20030509_123601.13': <corpus_reader.structure.structure.Document at 0x7fde08fd4f28>,\n",
       " 'CNN_ENG_20030513_080020.2': <corpus_reader.structure.structure.Document at 0x7fde08fc5b38>,\n",
       " 'MARKETVIEW_20050215.1858': <corpus_reader.structure.structure.Document at 0x7fde08e47780>,\n",
       " 'MARKETVIEW_20050216.2120': <corpus_reader.structure.structure.Document at 0x7fde08e5ca58>,\n",
       " 'MARKETVIEW_20050222.0729': <corpus_reader.structure.structure.Document at 0x7fde08d81940>,\n",
       " 'MARKETVIEW_20050226.1307': <corpus_reader.structure.structure.Document at 0x7fde08df05f8>,\n",
       " 'AFP_ENG_20030429.0007': <corpus_reader.structure.structure.Document at 0x7fde08d03198>,\n",
       " 'AFP_ENG_20030519.0049': <corpus_reader.structure.structure.Document at 0x7fde08c25b38>,\n",
       " 'AGGRESSIVEVOICEDAILY_20041101.1144': <corpus_reader.structure.structure.Document at 0x7fde08bd8320>,\n",
       " 'AGGRESSIVEVOICEDAILY_20041101.1806': <corpus_reader.structure.structure.Document at 0x7fde08b0da20>,\n",
       " 'APW_ENG_20030422.0469': <corpus_reader.structure.structure.Document at 0x7fde08a67d30>,\n",
       " 'APW_ENG_20030519.0367': <corpus_reader.structure.structure.Document at 0x7fde08866a20>,\n",
       " 'APW_ENG_20030519.0548': <corpus_reader.structure.structure.Document at 0x7fde0862beb8>,\n",
       " 'APW_ENG_20030619.0383': <corpus_reader.structure.structure.Document at 0x7fde084b30b8>,\n",
       " 'CNNHL_ENG_20030402_193443.5': <corpus_reader.structure.structure.Document at 0x7fde0844b828>,\n",
       " 'CNNHL_ENG_20030416_230741.33': <corpus_reader.structure.structure.Document at 0x7fde08412c88>,\n",
       " 'CNNHL_ENG_20030604_230238.5': <corpus_reader.structure.structure.Document at 0x7fde083f4940>,\n",
       " 'CNN_CF_20030304.1900.01': <corpus_reader.structure.structure.Document at 0x7fde080b9240>,\n",
       " 'CNN_ENG_20030407_080037.12': <corpus_reader.structure.structure.Document at 0x7fde080a7240>,\n",
       " 'CNN_ENG_20030407_130604.10': <corpus_reader.structure.structure.Document at 0x7fddfbe510b8>,\n",
       " 'CNN_ENG_20030409_180633.8': <corpus_reader.structure.structure.Document at 0x7fddfbe7bfd0>,\n",
       " 'CNN_ENG_20030415_103039.0': <corpus_reader.structure.structure.Document at 0x7fddfbe768d0>,\n",
       " 'CNN_ENG_20030422_083005.10': <corpus_reader.structure.structure.Document at 0x7fddfbbc9cf8>,\n",
       " 'CNN_ENG_20030526_183538.3': <corpus_reader.structure.structure.Document at 0x7fddfbabfda0>,\n",
       " 'CNN_ENG_20030530_130025.12': <corpus_reader.structure.structure.Document at 0x7fddfb9df470>,\n",
       " 'CNN_ENG_20030605_085831.13': <corpus_reader.structure.structure.Document at 0x7fddfb880c50>,\n",
       " 'CNN_ENG_20030610_085833.10': <corpus_reader.structure.structure.Document at 0x7fddfb801cf8>,\n",
       " 'CNN_ENG_20030617_193116.10': <corpus_reader.structure.structure.Document at 0x7fddfb58cb38>,\n",
       " 'CNN_ENG_20030618_150128.6': <corpus_reader.structure.structure.Document at 0x7fddfb575518>,\n",
       " 'CNN_ENG_20030620_170011.14': <corpus_reader.structure.structure.Document at 0x7fddfb54a080>,\n",
       " 'CNN_ENG_20030624_140104.22': <corpus_reader.structure.structure.Document at 0x7fddfb4ad6a0>,\n",
       " 'CNN_IP_20030402.1600.00-4': <corpus_reader.structure.structure.Document at 0x7fddfb2055f8>,\n",
       " 'CNN_IP_20030404.1600.00-2': <corpus_reader.structure.structure.Document at 0x7fddfb253550>,\n",
       " 'CNN_IP_20030406.1600.03': <corpus_reader.structure.structure.Document at 0x7fddfaf36fd0>,\n",
       " 'CNN_IP_20030408.1600.03': <corpus_reader.structure.structure.Document at 0x7fddfaf36080>,\n",
       " 'FLOPPINGACES_20050101.2244.048': <corpus_reader.structure.structure.Document at 0x7fddfacd90f0>,\n",
       " 'MARKBACKER_20041112.0707': <corpus_reader.structure.structure.Document at 0x7fddfabb4d68>,\n",
       " 'MARKBACKER_20041128.1641': <corpus_reader.structure.structure.Document at 0x7fddfa92c8d0>,\n",
       " 'MARKBACKER_20050217.0647': <corpus_reader.structure.structure.Document at 0x7fddfa9396d8>,\n",
       " 'CNN_ENG_20030429_110706.7': <corpus_reader.structure.structure.Document at 0x7fddfa7430b8>,\n",
       " 'CNN_ENG_20030502_093018.6': <corpus_reader.structure.structure.Document at 0x7fddfa5167b8>,\n",
       " 'CNN_ENG_20030507_160538.15': <corpus_reader.structure.structure.Document at 0x7fddfa453c18>,\n",
       " 'CNN_ENG_20030507_170539.0': <corpus_reader.structure.structure.Document at 0x7fddfa36b8d0>,\n",
       " 'NYT_ENG_20030630.0079': <corpus_reader.structure.structure.Document at 0x7fddfa0c1198>,\n",
       " 'XIN_ENG_20030408.0341': <corpus_reader.structure.structure.Document at 0x7fddfa139748>,\n",
       " 'XIN_ENG_20030513.0002': <corpus_reader.structure.structure.Document at 0x7fddf9f1cb00>}"
      ]
     },
     "execution_count": 5,
     "metadata": {},
     "output_type": "execute_result"
    }
   ],
   "source": [
    "docs"
   ]
  },
  {
   "cell_type": "markdown",
   "metadata": {},
   "source": [
    "For example we test on the document AFP_ENG_20030327.0224"
   ]
  },
  {
   "cell_type": "code",
   "execution_count": 6,
   "metadata": {},
   "outputs": [],
   "source": [
    "mydoc = docs['AFP_ENG_20030327.0224']"
   ]
  },
  {
   "cell_type": "markdown",
   "metadata": {},
   "source": [
    "Each document has a list of Sentence object defined in structure.structure"
   ]
  },
  {
   "cell_type": "code",
   "execution_count": 9,
   "metadata": {},
   "outputs": [
    {
     "data": {
      "text/plain": [
       "37"
      ]
     },
     "execution_count": 9,
     "metadata": {},
     "output_type": "execute_result"
    }
   ],
   "source": [
    "len(mydoc.sentences)"
   ]
  },
  {
   "cell_type": "code",
   "execution_count": 10,
   "metadata": {},
   "outputs": [
    {
     "data": {
      "text/plain": [
       "'afp_eng_20030327 .0224'"
      ]
     },
     "execution_count": 10,
     "metadata": {},
     "output_type": "execute_result"
    }
   ],
   "source": [
    "str(mydoc.sentences[0])"
   ]
  },
  {
   "cell_type": "markdown",
   "metadata": {},
   "source": [
    "Each sentnece has a list of Token object defined in structure.structure"
   ]
  },
  {
   "cell_type": "code",
   "execution_count": 11,
   "metadata": {},
   "outputs": [
    {
     "data": {
      "text/plain": [
       "34"
      ]
     },
     "execution_count": 11,
     "metadata": {},
     "output_type": "execute_result"
    }
   ],
   "source": [
    "len(mydoc.sentences[10].tokens)"
   ]
  },
  {
   "cell_type": "code",
   "execution_count": 12,
   "metadata": {},
   "outputs": [
    {
     "data": {
      "text/plain": [
       "'sandstorm'"
      ]
     },
     "execution_count": 12,
     "metadata": {},
     "output_type": "execute_result"
    }
   ],
   "source": [
    "mydoc.sentences[10].tokens[0].text"
   ]
  },
  {
   "cell_type": "code",
   "execution_count": 13,
   "metadata": {},
   "outputs": [
    {
     "data": {
      "text/plain": [
       "'t230'"
      ]
     },
     "execution_count": 13,
     "metadata": {},
     "output_type": "execute_result"
    }
   ],
   "source": [
    "mydoc.sentences[10].tokens[0].id"
   ]
  },
  {
   "cell_type": "code",
   "execution_count": 14,
   "metadata": {},
   "outputs": [
    {
     "data": {
      "text/plain": [
       "'1277'"
      ]
     },
     "execution_count": 14,
     "metadata": {},
     "output_type": "execute_result"
    }
   ],
   "source": [
    "mydoc.sentences[10].tokens[0].char_b"
   ]
  },
  {
   "cell_type": "code",
   "execution_count": 15,
   "metadata": {},
   "outputs": [
    {
     "data": {
      "text/plain": [
       "'1287'"
      ]
     },
     "execution_count": 15,
     "metadata": {},
     "output_type": "execute_result"
    }
   ],
   "source": [
    "mydoc.sentences[10].tokens[0].char_e"
   ]
  },
  {
   "cell_type": "code",
   "execution_count": 20,
   "metadata": {},
   "outputs": [
    {
     "data": {
      "text/plain": [
       "'CD'"
      ]
     },
     "execution_count": 20,
     "metadata": {},
     "output_type": "execute_result"
    }
   ],
   "source": [
    "mydoc.sentences[0].tokens[1].pos"
   ]
  },
  {
   "cell_type": "code",
   "execution_count": 17,
   "metadata": {},
   "outputs": [
    {
     "data": {
      "text/plain": [
       "'t242'"
      ]
     },
     "execution_count": 17,
     "metadata": {},
     "output_type": "execute_result"
    }
   ],
   "source": [
    "mydoc.sentences[10].tokens[0].dep_head"
   ]
  },
  {
   "cell_type": "code",
   "execution_count": 18,
   "metadata": {},
   "outputs": [
    {
     "data": {
      "text/plain": [
       "'nsubj'"
      ]
     },
     "execution_count": 18,
     "metadata": {},
     "output_type": "execute_result"
    }
   ],
   "source": [
    "mydoc.sentences[10].tokens[0].dep_type"
   ]
  },
  {
   "cell_type": "markdown",
   "metadata": {},
   "source": [
    "Each sentnece has a list of EntityMention object and RelationMention object defined in structure.structure"
   ]
  },
  {
   "cell_type": "code",
   "execution_count": 46,
   "metadata": {},
   "outputs": [
    {
     "data": {
      "text/plain": [
       "'military'"
      ]
     },
     "execution_count": 46,
     "metadata": {},
     "output_type": "execute_result"
    }
   ],
   "source": [
    "mydoc.sentences[10].entity_mentions[0].string"
   ]
  },
  {
   "cell_type": "code",
   "execution_count": 48,
   "metadata": {},
   "outputs": [
    {
     "data": {
      "text/plain": [
       "1406"
      ]
     },
     "execution_count": 48,
     "metadata": {},
     "output_type": "execute_result"
    }
   ],
   "source": [
    "mydoc.sentences[10].entity_mentions[0].char_b"
   ]
  },
  {
   "cell_type": "code",
   "execution_count": 49,
   "metadata": {},
   "outputs": [
    {
     "data": {
      "text/plain": [
       "1414"
      ]
     },
     "execution_count": 49,
     "metadata": {},
     "output_type": "execute_result"
    }
   ],
   "source": [
    "mydoc.sentences[10].entity_mentions[0].char_e"
   ]
  },
  {
   "cell_type": "markdown",
   "metadata": {},
   "source": [
    "RelationMention object has arg1 and arg2 which are EntityMention objects"
   ]
  },
  {
   "cell_type": "code",
   "execution_count": 56,
   "metadata": {},
   "outputs": [
    {
     "data": {
      "text/plain": [
       "'R8'"
      ]
     },
     "execution_count": 56,
     "metadata": {},
     "output_type": "execute_result"
    }
   ],
   "source": [
    "mydoc.sentences[10].relation_mentions[0].full_id"
   ]
  },
  {
   "cell_type": "code",
   "execution_count": 57,
   "metadata": {},
   "outputs": [
    {
     "data": {
      "text/plain": [
       "'PART-WHOLE'"
      ]
     },
     "execution_count": 57,
     "metadata": {},
     "output_type": "execute_result"
    }
   ],
   "source": [
    "mydoc.sentences[10].relation_mentions[0].type"
   ]
  },
  {
   "cell_type": "code",
   "execution_count": 58,
   "metadata": {},
   "outputs": [
    {
     "data": {
      "text/plain": [
       "'military'"
      ]
     },
     "execution_count": 58,
     "metadata": {},
     "output_type": "execute_result"
    }
   ],
   "source": [
    "mydoc.sentences[10].relation_mentions[0].arg1.string"
   ]
  },
  {
   "cell_type": "code",
   "execution_count": 59,
   "metadata": {},
   "outputs": [
    {
     "data": {
      "text/plain": [
       "'US'"
      ]
     },
     "execution_count": 59,
     "metadata": {},
     "output_type": "execute_result"
    }
   ],
   "source": [
    "mydoc.sentences[10].relation_mentions[0].arg2.string"
   ]
  },
  {
   "cell_type": "markdown",
   "metadata": {},
   "source": [
    "get_left_right_args() compares the postion and"
   ]
  },
  {
   "cell_type": "code",
   "execution_count": 60,
   "metadata": {},
   "outputs": [
    {
     "data": {
      "text/plain": [
       "(<corpus_reader.structure.structure.EntityMention at 0x7f569009f4e0>,\n",
       " <corpus_reader.structure.structure.EntityMention at 0x7f569008e9e8>,\n",
       " 'PART-WHOLE-rl')"
      ]
     },
     "execution_count": 60,
     "metadata": {},
     "output_type": "execute_result"
    }
   ],
   "source": [
    "mydoc.sentences[10].relation_mentions[0].get_left_right_args()"
   ]
  }
 ],
 "metadata": {
  "kernelspec": {
   "display_name": "Python 3",
   "language": "python",
   "name": "python3"
  },
  "language_info": {
   "codemirror_mode": {
    "name": "ipython",
    "version": 3
   },
   "file_extension": ".py",
   "mimetype": "text/x-python",
   "name": "python",
   "nbconvert_exporter": "python",
   "pygments_lexer": "ipython3",
   "version": "3.7.3"
  }
 },
 "nbformat": 4,
 "nbformat_minor": 2
}

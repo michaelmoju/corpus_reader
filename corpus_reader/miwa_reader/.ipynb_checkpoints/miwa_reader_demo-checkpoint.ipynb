{
 "cells": [
  {
   "cell_type": "markdown",
   "metadata": {},
   "source": [
    "# Miwa reader"
   ]
  },
  {
   "cell_type": "markdown",
   "metadata": {},
   "source": [
    "First, append the project file path so we can import the packages in this project afterwards"
   ]
  },
  {
   "cell_type": "code",
   "execution_count": 1,
   "metadata": {},
   "outputs": [],
   "source": [
    "import sys\n",
    "sys.path.append(\"/media/moju/data/work/corpus_reader\")"
   ]
  },
  {
   "cell_type": "code",
   "execution_count": 2,
   "metadata": {},
   "outputs": [],
   "source": [
    "from miwa_reader import MiwaReader"
   ]
  },
  {
   "cell_type": "code",
   "execution_count": 3,
   "metadata": {},
   "outputs": [],
   "source": [
    "reader = MiwaReader()"
   ]
  },
  {
   "cell_type": "code",
   "execution_count": 4,
   "metadata": {},
   "outputs": [],
   "source": [
    "docs = reader.read('/media/moju/data/work/resource/data/ace-2005/miwa2016/corpus/dev/')"
   ]
  },
  {
   "cell_type": "markdown",
   "metadata": {},
   "source": [
    "docs is a dictionary where the key is the document ID and the value is the Document object defined in structure.structure"
   ]
  },
  {
   "cell_type": "code",
   "execution_count": 5,
   "metadata": {},
   "outputs": [
    {
     "data": {
      "text/plain": [
       "{'AFP_ENG_20030327.0224': <corpus_reader.structure.structure.Document at 0x7f569006d5c0>,\n",
       " 'AFP_ENG_20030330.0211': <corpus_reader.structure.structure.Document at 0x7f56900b1908>,\n",
       " 'AFP_ENG_20030401.0476': <corpus_reader.structure.structure.Document at 0x7f5681f3c160>,\n",
       " 'BACONSREBELLION_20050127.1017': <corpus_reader.structure.structure.Document at 0x7f5681f2d2e8>,\n",
       " 'BACONSREBELLION_20050209.0721': <corpus_reader.structure.structure.Document at 0x7f5681d0c9e8>,\n",
       " 'BACONSREBELLION_20050216.1632': <corpus_reader.structure.structure.Document at 0x7f5681c81588>,\n",
       " 'BACONSREBELLION_20050226.1317': <corpus_reader.structure.structure.Document at 0x7f5681bfc978>,\n",
       " 'CNN_ENG_20030423_180539.2': <corpus_reader.structure.structure.Document at 0x7f5681bb80b8>,\n",
       " 'CNN_ENG_20030428_193655.2': <corpus_reader.structure.structure.Document at 0x7f5681aa1f60>,\n",
       " 'CNN_ENG_20030429_083016.5': <corpus_reader.structure.structure.Document at 0x7f5681a586d8>,\n",
       " 'CNN_ENG_20030611_102832.3': <corpus_reader.structure.structure.Document at 0x7f5681a2b320>,\n",
       " 'CNN_ENG_20030612_072835.2': <corpus_reader.structure.structure.Document at 0x7f56819e7b70>,\n",
       " 'CNN_ENG_20030617_173115.14': <corpus_reader.structure.structure.Document at 0x7f5681946400>,\n",
       " 'CNN_IP_20030408.1600.04': <corpus_reader.structure.structure.Document at 0x7f5681784390>,\n",
       " 'CNN_IP_20030412.1600.05': <corpus_reader.structure.structure.Document at 0x7f5681784160>,\n",
       " 'CNN_IP_20030414.1600.04': <corpus_reader.structure.structure.Document at 0x7f56815ba320>,\n",
       " 'APW_ENG_20030310.0719': <corpus_reader.structure.structure.Document at 0x7f56815b2400>,\n",
       " 'APW_ENG_20030331.0410': <corpus_reader.structure.structure.Document at 0x7f56814bd860>,\n",
       " 'APW_ENG_20030409.0013': <corpus_reader.structure.structure.Document at 0x7f568143fba8>,\n",
       " 'APW_ENG_20030419.0358': <corpus_reader.structure.structure.Document at 0x7f56811fd080>,\n",
       " 'CNN_ENG_20030305_170125.1': <corpus_reader.structure.structure.Document at 0x7f5681199908>,\n",
       " 'CNN_ENG_20030306_083604.6': <corpus_reader.structure.structure.Document at 0x7f56810d5ef0>,\n",
       " 'CNN_ENG_20030320_153434.7': <corpus_reader.structure.structure.Document at 0x7f5680ec9a20>,\n",
       " 'CNN_ENG_20030329_170349.7': <corpus_reader.structure.structure.Document at 0x7f5680ea10b8>,\n",
       " 'CNN_ENG_20030624_153103.17': <corpus_reader.structure.structure.Document at 0x7f5680d92320>,\n",
       " 'CNN_ENG_20030626_193133.8': <corpus_reader.structure.structure.Document at 0x7f5680cb0dd8>,\n",
       " 'CNN_ENG_20030627_065846.3': <corpus_reader.structure.structure.Document at 0x7f5680c6b588>,\n",
       " 'CNN_IP_20030329.1600.00-5': <corpus_reader.structure.structure.Document at 0x7f5680ba8c88>,\n",
       " 'MARKETVIEW_20041209.1401': <corpus_reader.structure.structure.Document at 0x7f5680adf6a0>,\n",
       " 'MARKETVIEW_20050120.1641': <corpus_reader.structure.structure.Document at 0x7f5680ba8ac8>,\n",
       " 'MARKETVIEW_20050208.2033': <corpus_reader.structure.structure.Document at 0x7f5680b139b0>,\n",
       " 'MARKETVIEW_20050209.1923': <corpus_reader.structure.structure.Document at 0x7f56809dec18>,\n",
       " 'MARKETVIEW_20050212.1607': <corpus_reader.structure.structure.Document at 0x7f5680917518>,\n",
       " 'CNN_ENG_20030509_090025.5': <corpus_reader.structure.structure.Document at 0x7f56808d2ba8>,\n",
       " 'CNN_ENG_20030509_123601.13': <corpus_reader.structure.structure.Document at 0x7f56807e07f0>,\n",
       " 'CNN_ENG_20030513_080020.2': <corpus_reader.structure.structure.Document at 0x7f568072e710>,\n",
       " 'MARKETVIEW_20050215.1858': <corpus_reader.structure.structure.Document at 0x7f568065d9b0>,\n",
       " 'MARKETVIEW_20050216.2120': <corpus_reader.structure.structure.Document at 0x7f5680671c88>,\n",
       " 'MARKETVIEW_20050222.0729': <corpus_reader.structure.structure.Document at 0x7f56805956d8>,\n",
       " 'MARKETVIEW_20050226.1307': <corpus_reader.structure.structure.Document at 0x7f5680589240>,\n",
       " 'AFP_ENG_20030429.0007': <corpus_reader.structure.structure.Document at 0x7f5680517710>,\n",
       " 'AFP_ENG_20030519.0049': <corpus_reader.structure.structure.Document at 0x7f56804338d0>,\n",
       " 'AGGRESSIVEVOICEDAILY_20041101.1144': <corpus_reader.structure.structure.Document at 0x7f56803e4438>,\n",
       " 'AGGRESSIVEVOICEDAILY_20041101.1806': <corpus_reader.structure.structure.Document at 0x7f5680317710>,\n",
       " 'APW_ENG_20030422.0469': <corpus_reader.structure.structure.Document at 0x7f5680270588>,\n",
       " 'APW_ENG_20030519.0367': <corpus_reader.structure.structure.Document at 0x7f5680062cf8>,\n",
       " 'APW_ENG_20030519.0548': <corpus_reader.structure.structure.Document at 0x7f5673ce1e10>,\n",
       " 'APW_ENG_20030619.0383': <corpus_reader.structure.structure.Document at 0x7f5673c02b00>,\n",
       " 'CNNHL_ENG_20030402_193443.5': <corpus_reader.structure.structure.Document at 0x7f5673c021d0>,\n",
       " 'CNNHL_ENG_20030416_230741.33': <corpus_reader.structure.structure.Document at 0x7f5673bc7630>,\n",
       " 'CNNHL_ENG_20030604_230238.5': <corpus_reader.structure.structure.Document at 0x7f5673ba8668>,\n",
       " 'CNN_CF_20030304.1900.01': <corpus_reader.structure.structure.Document at 0x7f5673859ef0>,\n",
       " 'CNN_ENG_20030407_080037.12': <corpus_reader.structure.structure.Document at 0x7f5673848cc0>,\n",
       " 'CNN_ENG_20030407_130604.10': <corpus_reader.structure.structure.Document at 0x7f56736a9e10>,\n",
       " 'CNN_ENG_20030409_180633.8': <corpus_reader.structure.structure.Document at 0x7f5673651128>,\n",
       " 'CNN_ENG_20030415_103039.0': <corpus_reader.structure.structure.Document at 0x7f56736566d8>,\n",
       " 'CNN_ENG_20030422_083005.10': <corpus_reader.structure.structure.Document at 0x7f567341abe0>,\n",
       " 'CNN_ENG_20030526_183538.3': <corpus_reader.structure.structure.Document at 0x7f5673247c18>,\n",
       " 'CNN_ENG_20030530_130025.12': <corpus_reader.structure.structure.Document at 0x7f5673227668>,\n",
       " 'CNN_ENG_20030605_085831.13': <corpus_reader.structure.structure.Document at 0x7f56730f0e10>,\n",
       " 'CNN_ENG_20030610_085833.10': <corpus_reader.structure.structure.Document at 0x7f5673042f28>,\n",
       " 'CNN_ENG_20030617_193116.10': <corpus_reader.structure.structure.Document at 0x7f5672dc9588>,\n",
       " 'CNN_ENG_20030618_150128.6': <corpus_reader.structure.structure.Document at 0x7f5672da8390>,\n",
       " 'CNN_ENG_20030620_170011.14': <corpus_reader.structure.structure.Document at 0x7f5672da8588>,\n",
       " 'CNN_ENG_20030624_140104.22': <corpus_reader.structure.structure.Document at 0x7f5672cdde48>,\n",
       " 'CNN_IP_20030402.1600.00-4': <corpus_reader.structure.structure.Document at 0x7f5672aaf908>,\n",
       " 'CNN_IP_20030404.1600.00-2': <corpus_reader.structure.structure.Document at 0x7f5672afe860>,\n",
       " 'CNN_IP_20030406.1600.03': <corpus_reader.structure.structure.Document at 0x7f567275c2e8>,\n",
       " 'CNN_IP_20030408.1600.03': <corpus_reader.structure.structure.Document at 0x7f5672755198>,\n",
       " 'FLOPPINGACES_20050101.2244.048': <corpus_reader.structure.structure.Document at 0x7f567256cbe0>,\n",
       " 'MARKBACKER_20041112.0707': <corpus_reader.structure.structure.Document at 0x7f56723c8978>,\n",
       " 'MARKBACKER_20041128.1641': <corpus_reader.structure.structure.Document at 0x7f5672158f98>,\n",
       " 'MARKBACKER_20050217.0647': <corpus_reader.structure.structure.Document at 0x7f5672142dd8>,\n",
       " 'CNN_ENG_20030429_110706.7': <corpus_reader.structure.structure.Document at 0x7f5671fc62e8>,\n",
       " 'CNN_ENG_20030502_093018.6': <corpus_reader.structure.structure.Document at 0x7f5671d95198>,\n",
       " 'CNN_ENG_20030507_160538.15': <corpus_reader.structure.structure.Document at 0x7f5671cce828>,\n",
       " 'CNN_ENG_20030507_170539.0': <corpus_reader.structure.structure.Document at 0x7f5671b8aac8>,\n",
       " 'NYT_ENG_20030630.0079': <corpus_reader.structure.structure.Document at 0x7f56719a9390>,\n",
       " 'XIN_ENG_20030408.0341': <corpus_reader.structure.structure.Document at 0x7f56719a3940>,\n",
       " 'XIN_ENG_20030513.0002': <corpus_reader.structure.structure.Document at 0x7f5671784390>}"
      ]
     },
     "execution_count": 5,
     "metadata": {},
     "output_type": "execute_result"
    }
   ],
   "source": [
    "docs"
   ]
  },
  {
   "cell_type": "markdown",
   "metadata": {},
   "source": [
    "For example we test on the document AFP_ENG_20030327.0224"
   ]
  },
  {
   "cell_type": "code",
   "execution_count": 22,
   "metadata": {},
   "outputs": [],
   "source": [
    "mydoc = docs['AFP_ENG_20030327.0224']"
   ]
  },
  {
   "cell_type": "markdown",
   "metadata": {},
   "source": [
    "Each document has a list of Sentence object defined in structure.structure"
   ]
  },
  {
   "cell_type": "code",
   "execution_count": 33,
   "metadata": {},
   "outputs": [
    {
     "data": {
      "text/plain": [
       "37"
      ]
     },
     "execution_count": 33,
     "metadata": {},
     "output_type": "execute_result"
    }
   ],
   "source": [
    "len(mydoc.sentences)"
   ]
  },
  {
   "cell_type": "code",
   "execution_count": 31,
   "metadata": {},
   "outputs": [
    {
     "data": {
      "text/plain": [
       "'sandstorm , dangerously long supply line and a recalcitrant enemy \" have lead to a broad reassessment by some top general of US military expectation and timeline , \" the Post report . \"'"
      ]
     },
     "execution_count": 31,
     "metadata": {},
     "output_type": "execute_result"
    }
   ],
   "source": [
    "str(mydoc.sentences[10])"
   ]
  },
  {
   "cell_type": "markdown",
   "metadata": {},
   "source": [
    "Each sentnece has a list of Token object defined in structure.structure"
   ]
  },
  {
   "cell_type": "code",
   "execution_count": 35,
   "metadata": {},
   "outputs": [
    {
     "data": {
      "text/plain": [
       "34"
      ]
     },
     "execution_count": 35,
     "metadata": {},
     "output_type": "execute_result"
    }
   ],
   "source": [
    "len(mydoc.sentences[10].tokens)"
   ]
  },
  {
   "cell_type": "code",
   "execution_count": 37,
   "metadata": {},
   "outputs": [
    {
     "data": {
      "text/plain": [
       "'sandstorm'"
      ]
     },
     "execution_count": 37,
     "metadata": {},
     "output_type": "execute_result"
    }
   ],
   "source": [
    "mydoc.sentences[10].tokens[0].text"
   ]
  },
  {
   "cell_type": "code",
   "execution_count": 43,
   "metadata": {},
   "outputs": [
    {
     "data": {
      "text/plain": [
       "'t230'"
      ]
     },
     "execution_count": 43,
     "metadata": {},
     "output_type": "execute_result"
    }
   ],
   "source": [
    "mydoc.sentences[10].tokens[0].id"
   ]
  },
  {
   "cell_type": "code",
   "execution_count": 38,
   "metadata": {},
   "outputs": [
    {
     "data": {
      "text/plain": [
       "'1277'"
      ]
     },
     "execution_count": 38,
     "metadata": {},
     "output_type": "execute_result"
    }
   ],
   "source": [
    "mydoc.sentences[10].tokens[0].char_b"
   ]
  },
  {
   "cell_type": "code",
   "execution_count": 39,
   "metadata": {},
   "outputs": [
    {
     "data": {
      "text/plain": [
       "'1287'"
      ]
     },
     "execution_count": 39,
     "metadata": {},
     "output_type": "execute_result"
    }
   ],
   "source": [
    "mydoc.sentences[10].tokens[0].char_e"
   ]
  },
  {
   "cell_type": "code",
   "execution_count": 40,
   "metadata": {},
   "outputs": [
    {
     "data": {
      "text/plain": [
       "'NS'"
      ]
     },
     "execution_count": 40,
     "metadata": {},
     "output_type": "execute_result"
    }
   ],
   "source": [
    "mydoc.sentences[10].tokens[0].pos"
   ]
  },
  {
   "cell_type": "code",
   "execution_count": 41,
   "metadata": {},
   "outputs": [
    {
     "data": {
      "text/plain": [
       "'t242'"
      ]
     },
     "execution_count": 41,
     "metadata": {},
     "output_type": "execute_result"
    }
   ],
   "source": [
    "mydoc.sentences[10].tokens[0].dep_head"
   ]
  },
  {
   "cell_type": "code",
   "execution_count": 42,
   "metadata": {},
   "outputs": [
    {
     "data": {
      "text/plain": [
       "'nsubj'"
      ]
     },
     "execution_count": 42,
     "metadata": {},
     "output_type": "execute_result"
    }
   ],
   "source": [
    "mydoc.sentences[10].tokens[0].dep_type"
   ]
  },
  {
   "cell_type": "markdown",
   "metadata": {},
   "source": [
    "Each sentnece has a list of EntityMention object and RelationMention object defined in structure.structure"
   ]
  },
  {
   "cell_type": "code",
   "execution_count": 46,
   "metadata": {},
   "outputs": [
    {
     "data": {
      "text/plain": [
       "'military'"
      ]
     },
     "execution_count": 46,
     "metadata": {},
     "output_type": "execute_result"
    }
   ],
   "source": [
    "mydoc.sentences[10].entity_mentions[0].string"
   ]
  },
  {
   "cell_type": "code",
   "execution_count": 48,
   "metadata": {},
   "outputs": [
    {
     "data": {
      "text/plain": [
       "1406"
      ]
     },
     "execution_count": 48,
     "metadata": {},
     "output_type": "execute_result"
    }
   ],
   "source": [
    "mydoc.sentences[10].entity_mentions[0].char_b"
   ]
  },
  {
   "cell_type": "code",
   "execution_count": 49,
   "metadata": {},
   "outputs": [
    {
     "data": {
      "text/plain": [
       "1414"
      ]
     },
     "execution_count": 49,
     "metadata": {},
     "output_type": "execute_result"
    }
   ],
   "source": [
    "mydoc.sentences[10].entity_mentions[0].char_e"
   ]
  },
  {
   "cell_type": "markdown",
   "metadata": {},
   "source": [
    "RelationMention object has arg1 and arg2 which are EntityMention objects"
   ]
  },
  {
   "cell_type": "code",
   "execution_count": 56,
   "metadata": {},
   "outputs": [
    {
     "data": {
      "text/plain": [
       "'R8'"
      ]
     },
     "execution_count": 56,
     "metadata": {},
     "output_type": "execute_result"
    }
   ],
   "source": [
    "mydoc.sentences[10].relation_mentions[0].full_id"
   ]
  },
  {
   "cell_type": "code",
   "execution_count": 57,
   "metadata": {},
   "outputs": [
    {
     "data": {
      "text/plain": [
       "'PART-WHOLE'"
      ]
     },
     "execution_count": 57,
     "metadata": {},
     "output_type": "execute_result"
    }
   ],
   "source": [
    "mydoc.sentences[10].relation_mentions[0].type"
   ]
  },
  {
   "cell_type": "code",
   "execution_count": 58,
   "metadata": {},
   "outputs": [
    {
     "data": {
      "text/plain": [
       "'military'"
      ]
     },
     "execution_count": 58,
     "metadata": {},
     "output_type": "execute_result"
    }
   ],
   "source": [
    "mydoc.sentences[10].relation_mentions[0].arg1.string"
   ]
  },
  {
   "cell_type": "code",
   "execution_count": 59,
   "metadata": {},
   "outputs": [
    {
     "data": {
      "text/plain": [
       "'US'"
      ]
     },
     "execution_count": 59,
     "metadata": {},
     "output_type": "execute_result"
    }
   ],
   "source": [
    "mydoc.sentences[10].relation_mentions[0].arg2.string"
   ]
  }
 ],
 "metadata": {
  "kernelspec": {
   "display_name": "Python 3",
   "language": "python",
   "name": "python3"
  },
  "language_info": {
   "codemirror_mode": {
    "name": "ipython",
    "version": 3
   },
   "file_extension": ".py",
   "mimetype": "text/x-python",
   "name": "python",
   "nbconvert_exporter": "python",
   "pygments_lexer": "ipython3",
   "version": "3.7.3"
  }
 },
 "nbformat": 4,
 "nbformat_minor": 2
}
